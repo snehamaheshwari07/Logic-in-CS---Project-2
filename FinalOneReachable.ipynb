{
 "cells": [
  {
   "cell_type": "code",
   "execution_count": 4,
   "id": "6b3ed02f",
   "metadata": {},
   "outputs": [
    {
     "data": {
      "text/plain": [
       "{1, 2, 3, 4, 5, 6}"
      ]
     },
     "execution_count": 4,
     "metadata": {},
     "output_type": "execute_result"
    }
   ],
   "source": [
    "from collections import deque\n",
    "\n",
    "def OneReachabilityGame(G, A):\n",
    "\n",
    "    winning_player1 = set()\n",
    "    losing_player1 = set()\n",
    "\n",
    "    #Created reverse edges\n",
    "    reverse_edges = {v: set() for v in G['V1'].union(G['V2'])}\n",
    "    for u, neighbors in G['E'].items():\n",
    "        for v in neighbors:\n",
    "            reverse_edges[v].add(u)\n",
    "\n",
    "    #accepting states (winning set for Player 1)\n",
    "    queue = deque(A)\n",
    "\n",
    "    while queue:\n",
    "        current = queue.popleft()\n",
    "        winning_player1.add(current)\n",
    "        #If we have one edge to AS in RE from V1, then winning set, p is for predecessor edge\n",
    "        for p in reverse_edges[current]:\n",
    "            if p in G['V1']:\n",
    "                if p not in winning_player1:\n",
    "                    queue.append(p)\n",
    "            else:\n",
    "                # For a Player 2 vertex, all successors must be winning for it to be winning\n",
    "                if all(successor in winning_player1 for successor in G['E'][p]):\n",
    "                    if p not in winning_player1:\n",
    "                        queue.append(p)\n",
    "\n",
    "    return winning_player1\n",
    "\n",
    "G = {\n",
    "    'V1': {1, 2, 3},\n",
    "    'V2': {4, 5, 6},\n",
    "    'E': {1: {4}, 2: {5}, 3: {6}, 4: {2}, 5: {3}, 6: {1}},\n",
    "    's': 1,\n",
    "    'A': {3, 6}\n",
    "}\n",
    "\n",
    "WS = OneReachabilityGame(G, G['A'])\n",
    "WS\n"
   ]
  },
  {
   "cell_type": "code",
   "execution_count": 6,
   "id": "d4c7e921",
   "metadata": {},
   "outputs": [
    {
     "data": {
      "text/plain": [
       "{3, 4}"
      ]
     },
     "execution_count": 6,
     "metadata": {},
     "output_type": "execute_result"
    }
   ],
   "source": [
    "G = {\n",
    "    'V1': { 2, 3, 4},\n",
    "    'V2': { 1, 5, 6},\n",
    "    'E': {1: {2}, 2: {5}, 3: {4}, 4: {3}, 5: {6, 3, 1}, 6: {6}},\n",
    "    's':1,\n",
    "    'A': {4}   \n",
    "}\n",
    "WS = OneReachabilityGame(G, G['A'])\n",
    "WS\n",
    "\n",
    "# 'reverse_edges': {2: {1}, 5: {2}, 4: {3}, 3: {4, 5}, 6: {5}, 6: {6}, 1:{ 5}}"
   ]
  },
  {
   "cell_type": "code",
   "execution_count": 100,
   "id": "2628515f",
   "metadata": {},
   "outputs": [],
   "source": [
    "from collections import deque\n",
    "def Attr1(B, G):\n",
    "    \"\"\" Attractor for Player 1 \"\"\"\n",
    "    attractor = set(B)\n",
    "    queue = deque(B)\n",
    "\n",
    "    while queue:\n",
    "        u = queue.popleft()\n",
    "        if u in G['reverse_edges']:\n",
    "            for v in G['reverse_edges'][u]:\n",
    "                if v not in attractor:\n",
    "                    if v in G['V1'] or all(w in attractor for w in G['E'][v]):\n",
    "                        attractor.add(v)\n",
    "                        queue.append(v)\n",
    "    return attractor\n",
    "\n",
    "\n",
    "def Attr2(TR, G):\n",
    "    \"\"\" Attractor for Player 2 \"\"\"\n",
    "    attractor = set(TR)\n",
    "    queue = deque(TR)\n",
    "\n",
    "    while queue:\n",
    "        u = queue.popleft()\n",
    "        if u in G['reverse_edges']:\n",
    "            for v in G['reverse_edges'][u]:\n",
    "                if v not in attractor and v in G['V2']:\n",
    "                    if any(w in attractor for w in G['E'][v]):\n",
    "                        attractor.add(v)\n",
    "                        queue.append(v)\n",
    "    return attractor\n",
    "\n",
    "\n",
    "def AvoidSetClassical(G, B):\n",
    "    \"\"\" Compute the Avoid Set in the classical Buchi Game algorithm \"\"\"\n",
    "    Ri = Attr1(B, G)\n",
    "    print('Ri', Ri)\n",
    "    Tri = G['S'] - Ri\n",
    "    Wi = Attr2(Tri, G)\n",
    "    print('Wi',Wi)\n",
    "    return Wi\n",
    "\n",
    "\n",
    "def BuchiGameAlgorithm(G, B):\n",
    "    \"\"\" Classical algorithm for Buchi Games \"\"\"\n",
    "    \n",
    "    reverse_edges = {v: set() for v in G['V1'].union(G['V2'])}\n",
    "    for u, neighbors in G['E'].items():\n",
    "        for v in neighbors:\n",
    "            reverse_edges[v].add(u)\n",
    "    G['reverse_edges']=reverse_edges\n",
    "    Gi = {'V1': G['V1'], 'V2': G['V2'], 'E': G['E'], 'S': G['V1'].union(G['V2']), 'reverse_edges': G['reverse_edges']}\n",
    "    Si = Gi['S']\n",
    "    Wi = set()\n",
    "    i = 0\n",
    "    print(G)\n",
    "    disqualified_states = set()\n",
    "    previous_disqualified_states = set()\n",
    "    W = set()\n",
    "    while True:\n",
    "        Wi = AvoidSetClassical(Gi, B & Si)\n",
    "#         if not Wi:\n",
    "#             break\n",
    "        #winning states of player 1\n",
    "        Ri=Si-Wi\n",
    "        print('Ri',Ri)\n",
    "        \n",
    "        for w in Ri:\n",
    "            if w in Gi['V1']:\n",
    "#                 print('w',w)\n",
    "                if w in Gi['E'] and all(v in Wi for v in G['E'][w]):\n",
    "#                     print(w)\n",
    "                    \n",
    "#                     for v in Gi['E'][w]:\n",
    "#                         if v in Wi:\n",
    "                    disqualified_states.add(w)\n",
    "                    break\n",
    "                if(w not in Gi['E']):\n",
    "                    disqualified_states.add(w)\n",
    "                    break\n",
    "                \n",
    "#                 else:\n",
    "#                     disqualified_states.add(w)\n",
    "#                     break\n",
    "                    \n",
    "            else:\n",
    "                if w not in Gi['E']:\n",
    "                    disqualified_states.add(w)\n",
    "                    break\n",
    "            \n",
    "                    \n",
    "                \n",
    "        print('disqualified_states',disqualified_states)\n",
    "        print('Wi',Wi)\n",
    "#         for w in Ri:\n",
    "#             if w in Gi['V1']:\n",
    "#                 if w in Gi['E']:\n",
    "# #                     print(w)\n",
    "#                     for v in Gi['E'][w]:\n",
    "#                         if v in Wi:\n",
    "#                             disqualified_states.add(w)\n",
    "#                             break\n",
    "                        \n",
    "#         if not disqualified_states:\n",
    "#             break\n",
    "        if (not disqualified_states - previous_disqualified_states) and not Wi:\n",
    "            break\n",
    "        \n",
    "\n",
    "        # Update Si to exclude disqualified states\n",
    "        Si = Ri - disqualified_states\n",
    "\n",
    "        # Update the game graph for the next iteration\n",
    "        Gi['S'] = Si\n",
    "        W.update(Wi - disqualified_states)\n",
    "        previous_disqualified_states = disqualified_states.copy()\n",
    "\n",
    "\n",
    "        \n",
    "\n",
    "        i += 1\n",
    "\n",
    "    return Si\n",
    "\n"
   ]
  },
  {
   "cell_type": "code",
   "execution_count": 103,
   "id": "0b038e9f",
   "metadata": {},
   "outputs": [
    {
     "name": "stdout",
     "output_type": "stream",
     "text": [
      "{'V1': {1, 2, 5}, 'V2': {3, 4}, 'E': {1: {4, 5}, 2: {3}, 4: {1, 2}, 5: {1, 2}}, 'reverse_edges': {1: {4, 5}, 2: {4, 5}, 3: {2}, 4: {1}, 5: {1}}}\n",
      "Ri {1, 2, 3, 4, 5}\n",
      "Wi set()\n",
      "Ri {1, 2, 3, 4, 5}\n",
      "disqualified_states {3}\n",
      "Wi set()\n",
      "Ri {1, 4, 5}\n",
      "Wi {2, 4}\n",
      "Ri {1, 5}\n",
      "disqualified_states {3}\n",
      "Wi {2, 4}\n",
      "Ri {1, 5}\n",
      "Wi set()\n",
      "Ri {1, 5}\n",
      "disqualified_states {3}\n",
      "Wi set()\n"
     ]
    },
    {
     "data": {
      "text/plain": [
       "{1, 5}"
      ]
     },
     "execution_count": 103,
     "metadata": {},
     "output_type": "execute_result"
    }
   ],
   "source": [
    "G1={\n",
    "    'V1':{1,2,5}, \n",
    "    'V2':{3,4},\n",
    "    'E':{1:{4,5}, 2:{3}, 4:{1,2}, 5:{1,2}}\n",
    "}\n",
    "B1={3,4,5}\n",
    "winning_set1 = BuchiGameAlgorithm(G1, B1)\n",
    "winning_set1"
   ]
  },
  {
   "cell_type": "code",
   "execution_count": 105,
   "id": "64bfb1be",
   "metadata": {},
   "outputs": [
    {
     "name": "stdout",
     "output_type": "stream",
     "text": [
      "{'V1': {2, 3, 4}, 'V2': {1, 5, 6}, 'E': {1: {1, 2}, 2: {5}, 3: {4}, 4: {3}, 5: {3, 6}, 6: {6}}, 'reverse_edges': {1: {1}, 2: {1}, 3: {4, 5}, 4: {3}, 5: {2}, 6: {5, 6}}}\n",
      "Ri {2, 3, 4}\n",
      "Wi {1, 5, 6}\n",
      "Ri {2, 3, 4}\n",
      "disqualified_states {2}\n",
      "Wi {1, 5, 6}\n",
      "Ri {3, 4}\n",
      "Wi set()\n",
      "Ri {3, 4}\n",
      "disqualified_states {2}\n",
      "Wi set()\n"
     ]
    },
    {
     "data": {
      "text/plain": [
       "{3, 4}"
      ]
     },
     "execution_count": 105,
     "metadata": {},
     "output_type": "execute_result"
    }
   ],
   "source": [
    "G = {\n",
    "    'V1': { 2, 3, 4},\n",
    "    'V2': { 1, 5, 6},\n",
    "    'E': {1: {1,2}, 2: {5}, 3: {4}, 4: {3}, 5: {6, 3}, 6: {6}}\n",
    "    }\n",
    "\n",
    "B = {2, 4}\n",
    "winning_set = BuchiGameAlgorithm(G, B)\n",
    "winning_set"
   ]
  },
  {
   "cell_type": "code",
   "execution_count": 104,
   "id": "d20a32c9",
   "metadata": {},
   "outputs": [
    {
     "name": "stdout",
     "output_type": "stream",
     "text": [
      "{'V1': {1, 2, 3}, 'V2': {4, 5, 6}, 'E': {1: {4}, 2: {5}, 3: {6}, 4: {2}, 5: {3}, 6: {1}}, 'reverse_edges': {1: {6}, 2: {4}, 3: {5}, 4: {1}, 5: {2}, 6: {3}}}\n",
      "Ri {1, 2, 3, 4, 5, 6}\n",
      "Wi set()\n",
      "Ri {1, 2, 3, 4, 5, 6}\n",
      "disqualified_states set()\n",
      "Wi set()\n"
     ]
    },
    {
     "data": {
      "text/plain": [
       "{1, 2, 3, 4, 5, 6}"
      ]
     },
     "execution_count": 104,
     "metadata": {},
     "output_type": "execute_result"
    }
   ],
   "source": [
    "# Example usage\n",
    "G = {\n",
    "    'V1': {1, 2, 3},\n",
    "    'V2': {4, 5, 6},\n",
    "    'E': {1: {4}, 2: {5}, 3: {6}, 4: {2}, 5: {3}, 6: {1}},\n",
    "}\n",
    "B = {3, 6}\n",
    "\n",
    "# Computing the winning set for the Büchi game\n",
    "winning_set = BuchiGameAlgorithm(G, B)\n",
    "winning_set\n"
   ]
  },
  {
   "cell_type": "code",
   "execution_count": null,
   "id": "dee97994",
   "metadata": {},
   "outputs": [],
   "source": []
  }
 ],
 "metadata": {
  "kernelspec": {
   "display_name": "Python 3 (ipykernel)",
   "language": "python",
   "name": "python3"
  },
  "language_info": {
   "codemirror_mode": {
    "name": "ipython",
    "version": 3
   },
   "file_extension": ".py",
   "mimetype": "text/x-python",
   "name": "python",
   "nbconvert_exporter": "python",
   "pygments_lexer": "ipython3",
   "version": "3.11.4"
  }
 },
 "nbformat": 4,
 "nbformat_minor": 5
}
