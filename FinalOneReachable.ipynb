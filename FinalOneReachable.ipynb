{
 "cells": [
  {
   "cell_type": "code",
   "execution_count": 111,
   "id": "6b3ed02f",
   "metadata": {},
   "outputs": [
    {
     "name": "stdout",
     "output_type": "stream",
     "text": [
      "{1, 2, 3, 4, 5, 6} {2: 5, 1: 4}\n"
     ]
    }
   ],
   "source": [
    "from collections import deque\n",
    "\n",
    "def OneReachabilityGame(G, A):\n",
    "\n",
    "    winning_player1 = set()\n",
    "    strategy = {}\n",
    "\n",
    "\n",
    "    #Created reverse edges\n",
    "    reverse_edges = {v: set() for v in G['V1'].union(G['V2'])}\n",
    "    for u, neighbors in G['E'].items():\n",
    "        for v in neighbors:\n",
    "            reverse_edges[v].add(u)\n",
    "\n",
    "    #accepting states (winning set for Player 1)\n",
    "    queue = deque(A)\n",
    "\n",
    "    while queue:\n",
    "        current = queue.popleft()\n",
    "        winning_player1.add(current)\n",
    "        #If we have one edge to AS in RE from V1, then winning set, p is for predecessor edge\n",
    "        for p in reverse_edges[current]:\n",
    "            if p in G['V1']:\n",
    "                if p not in winning_player1:\n",
    "                    strategy[p] = current\n",
    "                    queue.append(p)\n",
    "            else:\n",
    "                # For a Player 2 vertex, all successors must be winning for it to be winning\n",
    "                if all(successor in winning_player1 for successor in G['E'][p]):\n",
    "                    if p not in winning_player1:\n",
    "                        queue.append(p)\n",
    "\n",
    "    return winning_player1,strategy\n",
    "\n",
    "G = {\n",
    "    'V1': {1, 2, 3},\n",
    "    'V2': {4, 5, 6},\n",
    "    'E': {1: {4}, 2: {5}, 3: {6}, 4: {2}, 5: {3}, 6: {1}},\n",
    "    's': 1,\n",
    "    'A': {3, 6}\n",
    "}\n",
    "\n",
    "WS, stra = OneReachabilityGame(G, G['A'])\n",
    "print(WS, stra)\n"
   ]
  },
  {
   "cell_type": "code",
   "execution_count": 112,
   "id": "d4c7e921",
   "metadata": {},
   "outputs": [
    {
     "data": {
      "text/plain": [
       "({3, 4}, {3: 4})"
      ]
     },
     "execution_count": 112,
     "metadata": {},
     "output_type": "execute_result"
    }
   ],
   "source": [
    "G = {\n",
    "    'V1': { 2, 3, 4},\n",
    "    'V2': { 1, 5, 6},\n",
    "    'E': {1: {2}, 2: {5}, 3: {4}, 4: {3}, 5: {6, 3, 1}, 6: {6}},\n",
    "    's':1,\n",
    "    'A': {4}   \n",
    "}\n",
    "WS = OneReachabilityGame(G, G['A'])\n",
    "WS\n",
    "\n",
    "# 'reverse_edges': {2: {1}, 5: {2}, 4: {3}, 3: {4, 5}, 6: {5}, 6: {6}, 1:{ 5}}"
   ]
  },
  {
   "cell_type": "code",
   "execution_count": 21,
   "id": "2628515f",
   "metadata": {},
   "outputs": [],
   "source": [
    "from collections import deque\n",
    "def Attr1(B, G,strategy):\n",
    "    \"\"\" Attractor for Player 1 \"\"\"\n",
    "    attractor = set(B)\n",
    "    queue = deque(B)\n",
    "\n",
    "    while queue:\n",
    "        u = queue.popleft()\n",
    "        if u in G['reverse_edges']:\n",
    "            for v in G['reverse_edges'][u]:\n",
    "                if v not in attractor:\n",
    "                    if v in G['V1']:\n",
    "                        attractor.add(v)\n",
    "                        queue.append(v)\n",
    "                        strategy[v] = u  # Strategy for Player 1\n",
    "                    elif all(w in attractor for w in G['E'][v]):\n",
    "                        attractor.add(v)\n",
    "                        queue.append(v)\n",
    "#                     if v in G['V1'] or all(w in attractor for w in G['E'][v]):\n",
    "#                         attractor.add(v)\n",
    "#                         queue.append(v)\n",
    "\n",
    "    return attractor\n",
    "\n",
    "\n",
    "def Attr2(TR, G):\n",
    "    \"\"\" Attractor for Player 2 \"\"\"\n",
    "    attractor = set(TR)\n",
    "    queue = deque(TR)\n",
    "\n",
    "    while queue:\n",
    "        u = queue.popleft()\n",
    "        if u in G['reverse_edges']:\n",
    "            for v in G['reverse_edges'][u]:\n",
    "                if v not in attractor and v in G['V2']:\n",
    "                    if any(w in attractor for w in G['E'][v]):\n",
    "                        attractor.add(v)\n",
    "                        queue.append(v)\n",
    "    return attractor\n",
    "\n",
    "\n",
    "def AvoidSetClassical(G, B, strategy):\n",
    "    \"\"\" Compute the Avoid Set in the classical Buchi Game algorithm \"\"\"\n",
    "    Ri = Attr1(B, G, strategy)\n",
    "    print('Ri', Ri)\n",
    "    Tri = G['S'] - Ri\n",
    "    Wi = Attr2(Tri, G)\n",
    "    print('Wi avd',Wi)\n",
    "    return Wi\n",
    "\n",
    "\n",
    "def BuchiGameAlgorithm(G, B):\n",
    "    \"\"\" Classical algorithm for Buchi Games \"\"\"\n",
    "    strategy = {} \n",
    "    \n",
    "    reverse_edges = {v: set() for v in G['V1'].union(G['V2'])}\n",
    "    for u, neighbors in G['E'].items():\n",
    "        for v in neighbors:\n",
    "            reverse_edges[v].add(u)\n",
    "    G['reverse_edges']=reverse_edges\n",
    "    Gi = {'V1': G['V1'], 'V2': G['V2'], 'E': G['E'], 'S': G['V1'].union(G['V2']), 'reverse_edges': G['reverse_edges']}\n",
    "    Si = Gi['S']\n",
    "    Wi = set()\n",
    "    i = 0\n",
    "    print(G)\n",
    "    disqualified_states = set()\n",
    "    previous_disqualified_states = set()\n",
    "    W = set()\n",
    "    while True:\n",
    "        print('iter', i)\n",
    "        Wi = AvoidSetClassical(Gi, B & Si, strategy)\n",
    "        #winning states of player 1\n",
    "        W1=Si-Wi\n",
    "        print('W1',W1)\n",
    "        \n",
    "        for w in W1:\n",
    "            if w in Gi['V1']:\n",
    "                if w in Gi['E'] and all(v in Wi for v in G['E'][w]):\n",
    "                    disqualified_states.add(w)\n",
    "                    break\n",
    "                if(w not in Gi['E']):\n",
    "                    disqualified_states.add(w)\n",
    "                    break\n",
    "                \n",
    "                    \n",
    "            else:\n",
    "                if w not in Gi['E']:\n",
    "                    disqualified_states.add(w)\n",
    "                    break\n",
    "            \n",
    "                    \n",
    "                \n",
    "        print('ds',disqualified_states)\n",
    "#         print('Wi',Wi)\n",
    "        if (not disqualified_states - previous_disqualified_states) and not Wi:\n",
    "            break\n",
    "        \n",
    "\n",
    "        # Update Si to exclude disqualified states\n",
    "        Si = W1 - disqualified_states\n",
    "\n",
    "        # Update the game graph for the next iteration\n",
    "        Gi['S'] = Si\n",
    "        W.update(Wi - disqualified_states)\n",
    "        previous_disqualified_states = disqualified_states.copy()\n",
    "\n",
    "\n",
    "        \n",
    "\n",
    "        i += 1\n",
    "    \n",
    "\n",
    "    return Si, strategy\n",
    "\n"
   ]
  },
  {
   "cell_type": "code",
   "execution_count": 22,
   "id": "835a2ee4",
   "metadata": {},
   "outputs": [
    {
     "name": "stdout",
     "output_type": "stream",
     "text": [
      "{'V1': {1, 2, 5}, 'V2': {3, 4}, 'E': {1: {4, 5}, 2: {3}, 4: {1, 2}, 5: {1, 2}}, 'reverse_edges': {1: {4, 5}, 2: {4, 5}, 3: {2}, 4: {1}, 5: {1}}}\n",
      "iter 0\n",
      "Ri {1, 2, 3, 4, 5}\n",
      "Wi avd set()\n",
      "W1 {1, 2, 3, 4, 5}\n",
      "ds {3}\n",
      "iter 1\n",
      "Ri {1, 4, 5}\n",
      "Wi avd {2, 4}\n",
      "W1 {1, 5}\n",
      "ds {3}\n",
      "iter 2\n",
      "Ri {1, 5}\n",
      "Wi avd set()\n",
      "W1 {1, 5}\n",
      "ds {3}\n",
      "Winning Set: {1, 5}\n",
      "Strategy: {2: 3, 1: 5}\n"
     ]
    }
   ],
   "source": [
    "G1={\n",
    "    'V1':{1,2,5}, \n",
    "    'V2':{3,4},\n",
    "    'E':{1:{4,5}, 2:{3}, 4:{1,2}, 5:{1,2}}\n",
    "}\n",
    "B1={3,4,5}\n",
    "winning_set1, strategy = BuchiGameAlgorithm(G1, B1)\n",
    "print(\"Winning Set:\", winning_set1)\n",
    "print(\"Strategy:\", strategy)"
   ]
  },
  {
   "cell_type": "code",
   "execution_count": 117,
   "id": "64bfb1be",
   "metadata": {},
   "outputs": [
    {
     "name": "stdout",
     "output_type": "stream",
     "text": [
      "{'V1': {2, 3, 4}, 'V2': {1, 5, 6}, 'E': {1: {2}, 2: {5}, 3: {4}, 4: {3}, 5: {3, 6}, 6: {6}}, 'reverse_edges': {1: set(), 2: {1}, 3: {4, 5}, 4: {3}, 5: {2}, 6: {5, 6}}}\n",
      "Ri {1, 2, 3, 4}\n",
      "Wi {5, 6}\n",
      "Ri {1, 2, 3, 4}\n",
      "disqualified_states {2}\n",
      "Wi {5, 6}\n",
      "Ri {3, 4}\n",
      "Wi {1}\n",
      "Ri {3, 4}\n",
      "disqualified_states {2}\n",
      "Wi {1}\n",
      "Ri {3, 4}\n",
      "Wi set()\n",
      "Ri {3, 4}\n",
      "disqualified_states {2}\n",
      "Wi set()\n"
     ]
    },
    {
     "data": {
      "text/plain": [
       "({3, 4}, {1: 2, 3: 4})"
      ]
     },
     "execution_count": 117,
     "metadata": {},
     "output_type": "execute_result"
    }
   ],
   "source": [
    "G = {\n",
    "    'V1': { 2, 3, 4},\n",
    "    'V2': { 1, 5, 6},\n",
    "    'E': {1: {2}, 2: {5}, 3: {4}, 4: {3}, 5: {6, 3}, 6: {6}}\n",
    "    }\n",
    "\n",
    "B = {2, 4}\n",
    "winning_set = BuchiGameAlgorithm(G, B)\n",
    "winning_set"
   ]
  },
  {
   "cell_type": "code",
   "execution_count": 119,
   "id": "d20a32c9",
   "metadata": {},
   "outputs": [
    {
     "name": "stdout",
     "output_type": "stream",
     "text": [
      "{'V1': {1, 2, 3}, 'V2': {4, 5, 6}, 'E': {1: {4}, 2: {5}, 3: {6}, 4: {2}, 5: {3}, 6: {1}}, 'reverse_edges': {1: {6}, 2: {4}, 3: {5}, 4: {1}, 5: {2}, 6: {3}}}\n",
      "Ri {1, 2, 3, 4, 5, 6}\n",
      "Wi set()\n",
      "Ri {1, 2, 3, 4, 5, 6}\n",
      "disqualified_states set()\n",
      "Wi set()\n"
     ]
    },
    {
     "data": {
      "text/plain": [
       "({1, 2, 3, 4, 5, 6}, {5: 3, 2: 5, 4: 2, 1: 4})"
      ]
     },
     "execution_count": 119,
     "metadata": {},
     "output_type": "execute_result"
    }
   ],
   "source": [
    "# Example usage\n",
    "G = {\n",
    "    'V1': {1, 2, 3},\n",
    "    'V2': {4, 5, 6},\n",
    "    'E': {1: {4}, 2: {5}, 3: {6}, 4: {2}, 5: {3}, 6: {1}},\n",
    "}\n",
    "B = {3, 6}\n",
    "\n",
    "# Computing the winning set for the Büchi game\n",
    "winning_set = BuchiGameAlgorithm(G, B)\n",
    "winning_set\n"
   ]
  },
  {
   "cell_type": "code",
   "execution_count": null,
   "id": "a39422ab",
   "metadata": {},
   "outputs": [],
   "source": []
  }
 ],
 "metadata": {
  "kernelspec": {
   "display_name": "Python 3 (ipykernel)",
   "language": "python",
   "name": "python3"
  },
  "language_info": {
   "codemirror_mode": {
    "name": "ipython",
    "version": 3
   },
   "file_extension": ".py",
   "mimetype": "text/x-python",
   "name": "python",
   "nbconvert_exporter": "python",
   "pygments_lexer": "ipython3",
   "version": "3.11.4"
  }
 },
 "nbformat": 4,
 "nbformat_minor": 5
}
